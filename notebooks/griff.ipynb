{
 "cells": [
  {
   "cell_type": "markdown",
   "metadata": {},
   "source": [
    "# Predicting Kickstarter Campaign Success"
   ]
  },
  {
   "cell_type": "markdown",
   "metadata": {},
   "source": [
    "![](../images/kickstarter-logo.jpg)"
   ]
  },
  {
   "cell_type": "markdown",
   "metadata": {},
   "source": [
    "# Overview\n",
    "\n",
    "Projects on kickstarter have a funding goal, where backers pledge to fund the project only if the total funding is met.  If the amount pledged is less than the goal, the project does not get funded and it fails.  When a project is successfully funded, the backers are charged the amount they pledged and the project creator gets the funds to carry out their project, while Kickstarter gets a commission.  In this project, we will examine the success rate of campaigns from the perspective of Kickstarter in order to understand the most important factors for campaign success.  This will allow Kickstarter to aid creators in hitting funding goals and maximize "
   ]
  },
  {
   "cell_type": "markdown",
   "metadata": {},
   "source": [
    "# Imports"
   ]
  },
  {
   "cell_type": "code",
   "execution_count": 1,
   "metadata": {},
   "outputs": [],
   "source": [
    "%load_ext autoreload\n",
    "%autoreload 2\n",
    "import sys\n",
    "import os\n",
    "module_path = os.path.abspath(os.path.join(os.pardir))\n",
    "if module_path not in sys.path:\n",
    "    sys.path.append(module_path)\n",
    "import numpy as np\n",
    "import pandas as pd\n",
    "import json\n",
    "from glob import glob\n",
    "from datetime import datetime as dt\n",
    "from sklearn.model_selection import train_test_split\n",
    "from sklearn.ensemble import RandomForestClassifier\n",
    "from sklearn.linear_model import LogisticRegression\n",
    "from sklearn.model_selection import GridSearchCV\n",
    "from xgboost import XGBClassifier\n",
    "from sklearn.metrics import accuracy_score\n",
    "from src import datacleaning as dc\n",
    "from src import modeling as md\n",
    "pd.set_option('max_columns', None)"
   ]
  },
  {
   "cell_type": "markdown",
   "metadata": {},
   "source": [
    "# EDA"
   ]
  },
  {
   "cell_type": "code",
   "execution_count": 2,
   "metadata": {},
   "outputs": [],
   "source": [
    "# df = pd.DataFrame()\n",
    "# for f in glob('../data/Kickstarter*.csv'):\n",
    "#     df = pd.concat([df, pd.read_csv(f)])\n",
    "# df.to_csv('..data/Kickstarter_full.csv', index = False)"
   ]
  },
  {
   "cell_type": "code",
   "execution_count": 3,
   "metadata": {},
   "outputs": [],
   "source": [
    "df = pd.read_csv('../data/Kickstarter_full.csv')"
   ]
  },
  {
   "cell_type": "code",
   "execution_count": 4,
   "metadata": {},
   "outputs": [
    {
     "data": {
      "text/html": [
       "<div>\n",
       "<style scoped>\n",
       "    .dataframe tbody tr th:only-of-type {\n",
       "        vertical-align: middle;\n",
       "    }\n",
       "\n",
       "    .dataframe tbody tr th {\n",
       "        vertical-align: top;\n",
       "    }\n",
       "\n",
       "    .dataframe thead th {\n",
       "        text-align: right;\n",
       "    }\n",
       "</style>\n",
       "<table border=\"1\" class=\"dataframe\">\n",
       "  <thead>\n",
       "    <tr style=\"text-align: right;\">\n",
       "      <th></th>\n",
       "      <th>backers_count</th>\n",
       "      <th>blurb</th>\n",
       "      <th>category</th>\n",
       "      <th>converted_pledged_amount</th>\n",
       "      <th>country</th>\n",
       "      <th>country_displayable_name</th>\n",
       "      <th>created_at</th>\n",
       "      <th>creator</th>\n",
       "      <th>currency</th>\n",
       "      <th>currency_symbol</th>\n",
       "      <th>currency_trailing_code</th>\n",
       "      <th>current_currency</th>\n",
       "      <th>deadline</th>\n",
       "      <th>disable_communication</th>\n",
       "      <th>friends</th>\n",
       "      <th>fx_rate</th>\n",
       "      <th>goal</th>\n",
       "      <th>id</th>\n",
       "      <th>is_backing</th>\n",
       "      <th>is_starrable</th>\n",
       "      <th>is_starred</th>\n",
       "      <th>launched_at</th>\n",
       "      <th>location</th>\n",
       "      <th>name</th>\n",
       "      <th>permissions</th>\n",
       "      <th>photo</th>\n",
       "      <th>pledged</th>\n",
       "      <th>profile</th>\n",
       "      <th>slug</th>\n",
       "      <th>source_url</th>\n",
       "      <th>spotlight</th>\n",
       "      <th>staff_pick</th>\n",
       "      <th>state</th>\n",
       "      <th>state_changed_at</th>\n",
       "      <th>static_usd_rate</th>\n",
       "      <th>urls</th>\n",
       "      <th>usd_pledged</th>\n",
       "      <th>usd_type</th>\n",
       "    </tr>\n",
       "  </thead>\n",
       "  <tbody>\n",
       "    <tr>\n",
       "      <th>0</th>\n",
       "      <td>2</td>\n",
       "      <td>I am building a website as a platform for stud...</td>\n",
       "      <td>{\"id\":362,\"name\":\"Makerspaces\",\"slug\":\"technol...</td>\n",
       "      <td>8</td>\n",
       "      <td>AU</td>\n",
       "      <td>Australia</td>\n",
       "      <td>1526014096</td>\n",
       "      <td>{\"id\":576665900,\"name\":\"Emma - Teaching Little...</td>\n",
       "      <td>AUD</td>\n",
       "      <td>$</td>\n",
       "      <td>True</td>\n",
       "      <td>USD</td>\n",
       "      <td>1528928562</td>\n",
       "      <td>False</td>\n",
       "      <td>NaN</td>\n",
       "      <td>0.713110</td>\n",
       "      <td>1000.0</td>\n",
       "      <td>2116213542</td>\n",
       "      <td>NaN</td>\n",
       "      <td>False</td>\n",
       "      <td>NaN</td>\n",
       "      <td>1526336562</td>\n",
       "      <td>{\"id\":1102170,\"name\":\"Geelong\",\"slug\":\"geelong...</td>\n",
       "      <td>STEAM Challenges for kids</td>\n",
       "      <td>NaN</td>\n",
       "      <td>{\"key\":\"assets/021/192/015/169fac7e245d13c5b2c...</td>\n",
       "      <td>11.32</td>\n",
       "      <td>{\"id\":3378817,\"project_id\":3378817,\"state\":\"in...</td>\n",
       "      <td>steam-challenges-for-kids</td>\n",
       "      <td>https://www.kickstarter.com/discover/categorie...</td>\n",
       "      <td>False</td>\n",
       "      <td>False</td>\n",
       "      <td>failed</td>\n",
       "      <td>1528928562</td>\n",
       "      <td>0.754091</td>\n",
       "      <td>{\"web\":{\"project\":\"https://www.kickstarter.com...</td>\n",
       "      <td>8.536309</td>\n",
       "      <td>domestic</td>\n",
       "    </tr>\n",
       "    <tr>\n",
       "      <th>1</th>\n",
       "      <td>43</td>\n",
       "      <td>For my first solo museum exhibition, I'm const...</td>\n",
       "      <td>{\"id\":288,\"name\":\"Installations\",\"slug\":\"art/i...</td>\n",
       "      <td>3390</td>\n",
       "      <td>US</td>\n",
       "      <td>the United States</td>\n",
       "      <td>1490746168</td>\n",
       "      <td>{\"id\":1570512397,\"name\":\"Mark Reamy\",\"is_regis...</td>\n",
       "      <td>USD</td>\n",
       "      <td>$</td>\n",
       "      <td>True</td>\n",
       "      <td>USD</td>\n",
       "      <td>1493819063</td>\n",
       "      <td>False</td>\n",
       "      <td>NaN</td>\n",
       "      <td>1.000000</td>\n",
       "      <td>3000.0</td>\n",
       "      <td>162726099</td>\n",
       "      <td>NaN</td>\n",
       "      <td>False</td>\n",
       "      <td>NaN</td>\n",
       "      <td>1491227063</td>\n",
       "      <td>{\"id\":1123319,\"name\":\"Gwangju-Si\",\"slug\":\"gwan...</td>\n",
       "      <td>Moving Mountains - An Exhibition in South Korea</td>\n",
       "      <td>NaN</td>\n",
       "      <td>{\"key\":\"assets/016/043/280/779386fd82d6830e626...</td>\n",
       "      <td>3390.00</td>\n",
       "      <td>{\"id\":2940021,\"project_id\":2940021,\"state\":\"in...</td>\n",
       "      <td>moving-mountains-an-exhibition-in-south-korea</td>\n",
       "      <td>https://www.kickstarter.com/discover/categorie...</td>\n",
       "      <td>True</td>\n",
       "      <td>True</td>\n",
       "      <td>successful</td>\n",
       "      <td>1493819064</td>\n",
       "      <td>1.000000</td>\n",
       "      <td>{\"web\":{\"project\":\"https://www.kickstarter.com...</td>\n",
       "      <td>3390.000000</td>\n",
       "      <td>domestic</td>\n",
       "    </tr>\n",
       "    <tr>\n",
       "      <th>2</th>\n",
       "      <td>243</td>\n",
       "      <td>Jenn lives in an underground bunker, protected...</td>\n",
       "      <td>{\"id\":302,\"name\":\"Thrillers\",\"slug\":\"film &amp; vi...</td>\n",
       "      <td>28601</td>\n",
       "      <td>US</td>\n",
       "      <td>the United States</td>\n",
       "      <td>1411536270</td>\n",
       "      <td>{\"id\":579435811,\"name\":\"Steve Desmond\",\"is_reg...</td>\n",
       "      <td>USD</td>\n",
       "      <td>$</td>\n",
       "      <td>True</td>\n",
       "      <td>USD</td>\n",
       "      <td>1415844585</td>\n",
       "      <td>False</td>\n",
       "      <td>NaN</td>\n",
       "      <td>1.000000</td>\n",
       "      <td>16500.0</td>\n",
       "      <td>1678056872</td>\n",
       "      <td>NaN</td>\n",
       "      <td>False</td>\n",
       "      <td>NaN</td>\n",
       "      <td>1413248985</td>\n",
       "      <td>{\"id\":2442047,\"name\":\"Los Angeles\",\"slug\":\"los...</td>\n",
       "      <td>Monsters - The Short Film</td>\n",
       "      <td>NaN</td>\n",
       "      <td>{\"key\":\"assets/011/877/406/34b5aa93986724b6374...</td>\n",
       "      <td>28601.11</td>\n",
       "      <td>{\"id\":1376329,\"project_id\":1376329,\"state\":\"in...</td>\n",
       "      <td>monsters-the-short-film</td>\n",
       "      <td>https://www.kickstarter.com/discover/categorie...</td>\n",
       "      <td>True</td>\n",
       "      <td>True</td>\n",
       "      <td>successful</td>\n",
       "      <td>1415844587</td>\n",
       "      <td>1.000000</td>\n",
       "      <td>{\"web\":{\"project\":\"https://www.kickstarter.com...</td>\n",
       "      <td>28601.110000</td>\n",
       "      <td>domestic</td>\n",
       "    </tr>\n",
       "    <tr>\n",
       "      <th>3</th>\n",
       "      <td>2</td>\n",
       "      <td>I want to create a book that displays my work ...</td>\n",
       "      <td>{\"id\":278,\"name\":\"People\",\"slug\":\"photography/...</td>\n",
       "      <td>26</td>\n",
       "      <td>US</td>\n",
       "      <td>the United States</td>\n",
       "      <td>1420492380</td>\n",
       "      <td>{\"id\":528048907,\"name\":\"Brandi Carroll\",\"is_re...</td>\n",
       "      <td>USD</td>\n",
       "      <td>$</td>\n",
       "      <td>True</td>\n",
       "      <td>USD</td>\n",
       "      <td>1423192306</td>\n",
       "      <td>False</td>\n",
       "      <td>NaN</td>\n",
       "      <td>1.000000</td>\n",
       "      <td>5000.0</td>\n",
       "      <td>1972792590</td>\n",
       "      <td>NaN</td>\n",
       "      <td>False</td>\n",
       "      <td>NaN</td>\n",
       "      <td>1420600306</td>\n",
       "      <td>{\"id\":2374330,\"name\":\"Caneyville\",\"slug\":\"cane...</td>\n",
       "      <td>Imagine</td>\n",
       "      <td>NaN</td>\n",
       "      <td>{\"key\":\"assets/011/991/354/8497459c8c1bef38223...</td>\n",
       "      <td>26.00</td>\n",
       "      <td>{\"id\":1612632,\"project_id\":1612632,\"state\":\"in...</td>\n",
       "      <td>imagine-0</td>\n",
       "      <td>https://www.kickstarter.com/discover/categorie...</td>\n",
       "      <td>False</td>\n",
       "      <td>False</td>\n",
       "      <td>failed</td>\n",
       "      <td>1423192306</td>\n",
       "      <td>1.000000</td>\n",
       "      <td>{\"web\":{\"project\":\"https://www.kickstarter.com...</td>\n",
       "      <td>26.000000</td>\n",
       "      <td>domestic</td>\n",
       "    </tr>\n",
       "    <tr>\n",
       "      <th>4</th>\n",
       "      <td>210</td>\n",
       "      <td>A series of hard enamel pins and accessories</td>\n",
       "      <td>{\"id\":26,\"name\":\"Crafts\",\"slug\":\"crafts\",\"posi...</td>\n",
       "      <td>6516</td>\n",
       "      <td>GB</td>\n",
       "      <td>the United Kingdom</td>\n",
       "      <td>1593683203</td>\n",
       "      <td>{\"id\":926607047,\"name\":\"Laura Croft\",\"slug\":\"f...</td>\n",
       "      <td>GBP</td>\n",
       "      <td>£</td>\n",
       "      <td>False</td>\n",
       "      <td>USD</td>\n",
       "      <td>1598633946</td>\n",
       "      <td>False</td>\n",
       "      <td>NaN</td>\n",
       "      <td>1.301187</td>\n",
       "      <td>1000.0</td>\n",
       "      <td>928655800</td>\n",
       "      <td>NaN</td>\n",
       "      <td>False</td>\n",
       "      <td>NaN</td>\n",
       "      <td>1596214746</td>\n",
       "      <td>{\"id\":26279,\"name\":\"Lincoln\",\"slug\":\"lincoln-g...</td>\n",
       "      <td>Monsters and Maw Enamel Pins</td>\n",
       "      <td>NaN</td>\n",
       "      <td>{\"key\":\"assets/029/762/429/cfde26eb92bacd30e93...</td>\n",
       "      <td>4919.00</td>\n",
       "      <td>{\"id\":4025596,\"project_id\":4025596,\"state\":\"in...</td>\n",
       "      <td>monsters-and-maw-enamel-pins</td>\n",
       "      <td>https://www.kickstarter.com/discover/categorie...</td>\n",
       "      <td>True</td>\n",
       "      <td>False</td>\n",
       "      <td>successful</td>\n",
       "      <td>1598633946</td>\n",
       "      <td>1.298425</td>\n",
       "      <td>{\"web\":{\"project\":\"https://www.kickstarter.com...</td>\n",
       "      <td>6386.951345</td>\n",
       "      <td>domestic</td>\n",
       "    </tr>\n",
       "  </tbody>\n",
       "</table>\n",
       "</div>"
      ],
      "text/plain": [
       "   backers_count                                              blurb  \\\n",
       "0              2  I am building a website as a platform for stud...   \n",
       "1             43  For my first solo museum exhibition, I'm const...   \n",
       "2            243  Jenn lives in an underground bunker, protected...   \n",
       "3              2  I want to create a book that displays my work ...   \n",
       "4            210       A series of hard enamel pins and accessories   \n",
       "\n",
       "                                            category  \\\n",
       "0  {\"id\":362,\"name\":\"Makerspaces\",\"slug\":\"technol...   \n",
       "1  {\"id\":288,\"name\":\"Installations\",\"slug\":\"art/i...   \n",
       "2  {\"id\":302,\"name\":\"Thrillers\",\"slug\":\"film & vi...   \n",
       "3  {\"id\":278,\"name\":\"People\",\"slug\":\"photography/...   \n",
       "4  {\"id\":26,\"name\":\"Crafts\",\"slug\":\"crafts\",\"posi...   \n",
       "\n",
       "   converted_pledged_amount country country_displayable_name  created_at  \\\n",
       "0                         8      AU                Australia  1526014096   \n",
       "1                      3390      US        the United States  1490746168   \n",
       "2                     28601      US        the United States  1411536270   \n",
       "3                        26      US        the United States  1420492380   \n",
       "4                      6516      GB       the United Kingdom  1593683203   \n",
       "\n",
       "                                             creator currency currency_symbol  \\\n",
       "0  {\"id\":576665900,\"name\":\"Emma - Teaching Little...      AUD               $   \n",
       "1  {\"id\":1570512397,\"name\":\"Mark Reamy\",\"is_regis...      USD               $   \n",
       "2  {\"id\":579435811,\"name\":\"Steve Desmond\",\"is_reg...      USD               $   \n",
       "3  {\"id\":528048907,\"name\":\"Brandi Carroll\",\"is_re...      USD               $   \n",
       "4  {\"id\":926607047,\"name\":\"Laura Croft\",\"slug\":\"f...      GBP               £   \n",
       "\n",
       "   currency_trailing_code current_currency    deadline  disable_communication  \\\n",
       "0                    True              USD  1528928562                  False   \n",
       "1                    True              USD  1493819063                  False   \n",
       "2                    True              USD  1415844585                  False   \n",
       "3                    True              USD  1423192306                  False   \n",
       "4                   False              USD  1598633946                  False   \n",
       "\n",
       "  friends   fx_rate     goal          id is_backing  is_starrable is_starred  \\\n",
       "0     NaN  0.713110   1000.0  2116213542        NaN         False        NaN   \n",
       "1     NaN  1.000000   3000.0   162726099        NaN         False        NaN   \n",
       "2     NaN  1.000000  16500.0  1678056872        NaN         False        NaN   \n",
       "3     NaN  1.000000   5000.0  1972792590        NaN         False        NaN   \n",
       "4     NaN  1.301187   1000.0   928655800        NaN         False        NaN   \n",
       "\n",
       "   launched_at                                           location  \\\n",
       "0   1526336562  {\"id\":1102170,\"name\":\"Geelong\",\"slug\":\"geelong...   \n",
       "1   1491227063  {\"id\":1123319,\"name\":\"Gwangju-Si\",\"slug\":\"gwan...   \n",
       "2   1413248985  {\"id\":2442047,\"name\":\"Los Angeles\",\"slug\":\"los...   \n",
       "3   1420600306  {\"id\":2374330,\"name\":\"Caneyville\",\"slug\":\"cane...   \n",
       "4   1596214746  {\"id\":26279,\"name\":\"Lincoln\",\"slug\":\"lincoln-g...   \n",
       "\n",
       "                                              name permissions  \\\n",
       "0                        STEAM Challenges for kids         NaN   \n",
       "1  Moving Mountains - An Exhibition in South Korea         NaN   \n",
       "2                        Monsters - The Short Film         NaN   \n",
       "3                                          Imagine         NaN   \n",
       "4                     Monsters and Maw Enamel Pins         NaN   \n",
       "\n",
       "                                               photo   pledged  \\\n",
       "0  {\"key\":\"assets/021/192/015/169fac7e245d13c5b2c...     11.32   \n",
       "1  {\"key\":\"assets/016/043/280/779386fd82d6830e626...   3390.00   \n",
       "2  {\"key\":\"assets/011/877/406/34b5aa93986724b6374...  28601.11   \n",
       "3  {\"key\":\"assets/011/991/354/8497459c8c1bef38223...     26.00   \n",
       "4  {\"key\":\"assets/029/762/429/cfde26eb92bacd30e93...   4919.00   \n",
       "\n",
       "                                             profile  \\\n",
       "0  {\"id\":3378817,\"project_id\":3378817,\"state\":\"in...   \n",
       "1  {\"id\":2940021,\"project_id\":2940021,\"state\":\"in...   \n",
       "2  {\"id\":1376329,\"project_id\":1376329,\"state\":\"in...   \n",
       "3  {\"id\":1612632,\"project_id\":1612632,\"state\":\"in...   \n",
       "4  {\"id\":4025596,\"project_id\":4025596,\"state\":\"in...   \n",
       "\n",
       "                                            slug  \\\n",
       "0                      steam-challenges-for-kids   \n",
       "1  moving-mountains-an-exhibition-in-south-korea   \n",
       "2                        monsters-the-short-film   \n",
       "3                                      imagine-0   \n",
       "4                   monsters-and-maw-enamel-pins   \n",
       "\n",
       "                                          source_url  spotlight  staff_pick  \\\n",
       "0  https://www.kickstarter.com/discover/categorie...      False       False   \n",
       "1  https://www.kickstarter.com/discover/categorie...       True        True   \n",
       "2  https://www.kickstarter.com/discover/categorie...       True        True   \n",
       "3  https://www.kickstarter.com/discover/categorie...      False       False   \n",
       "4  https://www.kickstarter.com/discover/categorie...       True       False   \n",
       "\n",
       "        state  state_changed_at  static_usd_rate  \\\n",
       "0      failed        1528928562         0.754091   \n",
       "1  successful        1493819064         1.000000   \n",
       "2  successful        1415844587         1.000000   \n",
       "3      failed        1423192306         1.000000   \n",
       "4  successful        1598633946         1.298425   \n",
       "\n",
       "                                                urls   usd_pledged  usd_type  \n",
       "0  {\"web\":{\"project\":\"https://www.kickstarter.com...      8.536309  domestic  \n",
       "1  {\"web\":{\"project\":\"https://www.kickstarter.com...   3390.000000  domestic  \n",
       "2  {\"web\":{\"project\":\"https://www.kickstarter.com...  28601.110000  domestic  \n",
       "3  {\"web\":{\"project\":\"https://www.kickstarter.com...     26.000000  domestic  \n",
       "4  {\"web\":{\"project\":\"https://www.kickstarter.com...   6386.951345  domestic  "
      ]
     },
     "execution_count": 4,
     "metadata": {},
     "output_type": "execute_result"
    }
   ],
   "source": [
    "df.head()"
   ]
  },
  {
   "cell_type": "code",
   "execution_count": 5,
   "metadata": {},
   "outputs": [
    {
     "data": {
      "text/plain": [
       "successful    0.582305\n",
       "failed        0.344952\n",
       "canceled      0.041410\n",
       "live          0.031334\n",
       "Name: state, dtype: float64"
      ]
     },
     "execution_count": 5,
     "metadata": {},
     "output_type": "execute_result"
    }
   ],
   "source": [
    "df.state.value_counts(normalize = True)"
   ]
  },
  {
   "cell_type": "code",
   "execution_count": 6,
   "metadata": {},
   "outputs": [
    {
     "name": "stdout",
     "output_type": "stream",
     "text": [
      "<class 'pandas.core.frame.DataFrame'>\n",
      "RangeIndex: 219538 entries, 0 to 219537\n",
      "Data columns (total 38 columns):\n",
      "backers_count               219538 non-null int64\n",
      "blurb                       219532 non-null object\n",
      "category                    219538 non-null object\n",
      "converted_pledged_amount    219538 non-null int64\n",
      "country                     219538 non-null object\n",
      "country_displayable_name    219538 non-null object\n",
      "created_at                  219538 non-null int64\n",
      "creator                     219538 non-null object\n",
      "currency                    219538 non-null object\n",
      "currency_symbol             219538 non-null object\n",
      "currency_trailing_code      219538 non-null bool\n",
      "current_currency            219538 non-null object\n",
      "deadline                    219538 non-null int64\n",
      "disable_communication       219538 non-null bool\n",
      "friends                     312 non-null object\n",
      "fx_rate                     219538 non-null float64\n",
      "goal                        219538 non-null float64\n",
      "id                          219538 non-null int64\n",
      "is_backing                  312 non-null object\n",
      "is_starrable                219538 non-null bool\n",
      "is_starred                  312 non-null object\n",
      "launched_at                 219538 non-null int64\n",
      "location                    219332 non-null object\n",
      "name                        219538 non-null object\n",
      "permissions                 312 non-null object\n",
      "photo                       219538 non-null object\n",
      "pledged                     219538 non-null float64\n",
      "profile                     219538 non-null object\n",
      "slug                        219538 non-null object\n",
      "source_url                  219538 non-null object\n",
      "spotlight                   219538 non-null bool\n",
      "staff_pick                  219538 non-null bool\n",
      "state                       219538 non-null object\n",
      "state_changed_at            219538 non-null int64\n",
      "static_usd_rate             219538 non-null float64\n",
      "urls                        219538 non-null object\n",
      "usd_pledged                 219538 non-null float64\n",
      "usd_type                    219106 non-null object\n",
      "dtypes: bool(5), float64(5), int64(7), object(21)\n",
      "memory usage: 56.3+ MB\n"
     ]
    }
   ],
   "source": [
    "df.info()"
   ]
  },
  {
   "cell_type": "markdown",
   "metadata": {},
   "source": [
    "# Data Cleaning"
   ]
  },
  {
   "cell_type": "code",
   "execution_count": 7,
   "metadata": {},
   "outputs": [],
   "source": [
    "country_names = list(df.country_displayable_name.value_counts().index)\n",
    "country_codes = list(df.country.value_counts().index)\n",
    "countries = list(zip(country_names, country_codes))"
   ]
  },
  {
   "cell_type": "markdown",
   "metadata": {},
   "source": [
    "From the .info we see a few columns that can be dropped because they don't have enough data\n",
    "\n",
    "- `friend`\n",
    "- `is_backing`\n",
    "- `is_starred`\n",
    "- `permission`"
   ]
  },
  {
   "cell_type": "markdown",
   "metadata": {},
   "source": [
    "Additionally, there are a few unneeded or redundant columns\n",
    "- `photo`\n",
    "- `id`\n",
    "- `currency_symbol`\n",
    "- `country_displayable_name`\n",
    "- `disable_communication`\n",
    "- `fx_rate`\n",
    "- `converted_pledged_amount`\n",
    "- `currency_trailing_code`\n",
    "- `current_currency`"
   ]
  },
  {
   "cell_type": "code",
   "execution_count": 8,
   "metadata": {},
   "outputs": [],
   "source": [
    "df = df.drop(columns = ['friends',\n",
    "                        'is_backing',\n",
    "                        'is_starred',\n",
    "                        'permissions',\n",
    "                        'photo',\n",
    "                        'id',\n",
    "                        'currency_symbol',\n",
    "                        'country_displayable_name',\n",
    "                        'disable_communication',\n",
    "                        'converted_pledged_amount',\n",
    "                        'fx_rate',\n",
    "                        'currency_trailing_code',\n",
    "                        'current_currency'\n",
    "                       ]\n",
    "            )"
   ]
  },
  {
   "cell_type": "markdown",
   "metadata": {},
   "source": [
    "To deal with potential duplicate entries, rows with the same `blurb` and `launched_at` timestamp are dropped"
   ]
  },
  {
   "cell_type": "code",
   "execution_count": 9,
   "metadata": {},
   "outputs": [],
   "source": [
    "df = df.drop_duplicates(subset = ['blurb', 'launched_at'])"
   ]
  },
  {
   "cell_type": "markdown",
   "metadata": {},
   "source": [
    "We need to convert the date columns with object dtype unix timestamps into datetime objects."
   ]
  },
  {
   "cell_type": "code",
   "execution_count": 10,
   "metadata": {},
   "outputs": [],
   "source": [
    "dc.datetime_conversion(df)"
   ]
  },
  {
   "cell_type": "markdown",
   "metadata": {},
   "source": [
    "To convert the `goal` feature into a consistent currency, the `usd_goal` is created using `static_usd_rate`"
   ]
  },
  {
   "cell_type": "code",
   "execution_count": 11,
   "metadata": {},
   "outputs": [],
   "source": [
    "df['usd_goal'] = df.static_usd_rate * df.goal"
   ]
  },
  {
   "cell_type": "code",
   "execution_count": 12,
   "metadata": {},
   "outputs": [
    {
     "data": {
      "text/plain": [
       "USD    133128\n",
       "GBP     21420\n",
       "EUR     14356\n",
       "CAD      9035\n",
       "AUD      4546\n",
       "MXN      2775\n",
       "SEK      1351\n",
       "HKD      1203\n",
       "NZD       856\n",
       "DKK       843\n",
       "SGD       736\n",
       "CHF       666\n",
       "JPY       490\n",
       "NOK       466\n",
       "PLN         4\n",
       "Name: currency, dtype: int64"
      ]
     },
     "execution_count": 12,
     "metadata": {},
     "output_type": "execute_result"
    }
   ],
   "source": [
    "df.currency.value_counts()"
   ]
  },
  {
   "cell_type": "markdown",
   "metadata": {},
   "source": [
    "## Feature Engineering"
   ]
  },
  {
   "cell_type": "markdown",
   "metadata": {},
   "source": [
    "- has prior success\n",
    "- rate of funding (fast funder, slow funder)\n",
    "- number of words in blurb\n"
   ]
  },
  {
   "cell_type": "markdown",
   "metadata": {},
   "source": [
    "#### Has prior success"
   ]
  },
  {
   "cell_type": "markdown",
   "metadata": {},
   "source": [
    "From the creator dictionary string, the user id is pulled, and then that id is used to check if that user has more than 1 successful campaign."
   ]
  },
  {
   "cell_type": "code",
   "execution_count": 13,
   "metadata": {},
   "outputs": [],
   "source": [
    "df['creator_id'] = df.creator.apply(lambda x: int(x[6:6+dc.checkit(x[6:])]))\n",
    "temp = df.creator_id.value_counts()\n",
    "df['has_prior_success'] = [1 if temp.loc[x] > 1 else 0 for x in df.creator_id]"
   ]
  },
  {
   "cell_type": "code",
   "execution_count": 14,
   "metadata": {},
   "outputs": [
    {
     "data": {
      "text/plain": [
       "0    147580\n",
       "1     44295\n",
       "Name: has_prior_success, dtype: int64"
      ]
     },
     "execution_count": 14,
     "metadata": {},
     "output_type": "execute_result"
    }
   ],
   "source": [
    "df.has_prior_success.value_counts()"
   ]
  },
  {
   "cell_type": "markdown",
   "metadata": {},
   "source": [
    "#### Project length"
   ]
  },
  {
   "cell_type": "markdown",
   "metadata": {},
   "source": [
    "We want to determine if the length of a project has an effect on the success of the campaign."
   ]
  },
  {
   "cell_type": "code",
   "execution_count": 15,
   "metadata": {},
   "outputs": [],
   "source": [
    "df['project_length'] = df.deadline - df.launched_at\n",
    "df.project_length = df.project_length.apply(lambda x: x.days)"
   ]
  },
  {
   "cell_type": "code",
   "execution_count": 16,
   "metadata": {},
   "outputs": [
    {
     "data": {
      "text/plain": [
       "21"
      ]
     },
     "execution_count": 16,
     "metadata": {},
     "output_type": "execute_result"
    }
   ],
   "source": [
    "len(df.blurb[0].split())"
   ]
  },
  {
   "cell_type": "markdown",
   "metadata": {},
   "source": [
    "#### Blurb Length"
   ]
  },
  {
   "cell_type": "markdown",
   "metadata": {},
   "source": [
    "To see if the number of words in the blurb is important to the success of a project."
   ]
  },
  {
   "cell_type": "code",
   "execution_count": 17,
   "metadata": {},
   "outputs": [],
   "source": [
    "df['blurb_length'] = [len(str(x).split()) for x in df.blurb]"
   ]
  },
  {
   "cell_type": "markdown",
   "metadata": {},
   "source": [
    "#### Pledge per backer"
   ]
  },
  {
   "cell_type": "code",
   "execution_count": 18,
   "metadata": {},
   "outputs": [
    {
     "data": {
      "text/plain": [
       "0       15885\n",
       "1       15434\n",
       "2       10694\n",
       "3        7331\n",
       "4        5255\n",
       "        ...  \n",
       "2373        1\n",
       "4422        1\n",
       "6599        1\n",
       "3013        1\n",
       "1726        1\n",
       "Name: backers_count, Length: 3410, dtype: int64"
      ]
     },
     "execution_count": 18,
     "metadata": {},
     "output_type": "execute_result"
    }
   ],
   "source": [
    "df.backers_count.value_counts()"
   ]
  },
  {
   "cell_type": "code",
   "execution_count": 19,
   "metadata": {},
   "outputs": [],
   "source": [
    "df['pledge_per_backer'] = np.where(df.backers_count == 0, 0, df.usd_pledged / df.backers_count)"
   ]
  },
  {
   "cell_type": "markdown",
   "metadata": {},
   "source": [
    "#### Goal timedelta"
   ]
  },
  {
   "cell_type": "code",
   "execution_count": 20,
   "metadata": {},
   "outputs": [
    {
     "data": {
      "text/plain": [
       "Index(['backers_count', 'blurb', 'category', 'country', 'created_at',\n",
       "       'creator', 'currency', 'deadline', 'goal', 'is_starrable',\n",
       "       'launched_at', 'location', 'name', 'pledged', 'profile', 'slug',\n",
       "       'source_url', 'spotlight', 'staff_pick', 'state', 'state_changed_at',\n",
       "       'static_usd_rate', 'urls', 'usd_pledged', 'usd_type', 'usd_goal',\n",
       "       'creator_id', 'has_prior_success', 'project_length', 'blurb_length',\n",
       "       'pledge_per_backer', 'goal_needed_per_day', 'raised_per_day'],\n",
       "      dtype='object')"
      ]
     },
     "execution_count": 20,
     "metadata": {},
     "output_type": "execute_result"
    }
   ],
   "source": [
    "df['goal_needed_per_day'] = df.usd_goal / df.project_length\n",
    "df['raised_per_day'] = df.usd_pledged / df.project_length\n",
    "df.columns"
   ]
  },
  {
   "cell_type": "code",
   "execution_count": 21,
   "metadata": {},
   "outputs": [
    {
     "data": {
      "text/plain": [
       "domestic         146370\n",
       "international     45263\n",
       "Name: usd_type, dtype: int64"
      ]
     },
     "execution_count": 21,
     "metadata": {},
     "output_type": "execute_result"
    }
   ],
   "source": [
    "df.usd_type.value_counts()"
   ]
  },
  {
   "cell_type": "markdown",
   "metadata": {},
   "source": [
    "#### Category Dictionary"
   ]
  },
  {
   "cell_type": "code",
   "execution_count": 22,
   "metadata": {},
   "outputs": [],
   "source": [
    "df.category = df.category.apply(json.loads)\n",
    "df['category_name'] = df.category.apply(lambda x: x['name'])"
   ]
  },
  {
   "cell_type": "markdown",
   "metadata": {},
   "source": [
    "## Categorical Columns"
   ]
  },
  {
   "cell_type": "code",
   "execution_count": 23,
   "metadata": {},
   "outputs": [],
   "source": [
    "dummy_cols = [\n",
    "    'country',\n",
    "    'is_starrable',\n",
    "    'spotlight',\n",
    "    'staff_pick',\n",
    "    'state',\n",
    "    'category_name',\n",
    "    'usd_type'\n",
    "]\n",
    "df = pd.get_dummies(df,\n",
    "                    columns = dummy_cols,\n",
    "                    drop_first = True)"
   ]
  },
  {
   "cell_type": "markdown",
   "metadata": {},
   "source": [
    "## Live, canceled dfs"
   ]
  },
  {
   "cell_type": "code",
   "execution_count": 24,
   "metadata": {},
   "outputs": [],
   "source": [
    "live_df = df.loc[df.state_live == 1]\n",
    "df = df.drop(df.loc[df.state_live == 1].index).drop(columns = 'state_live')\n",
    "cancelled_df = df.loc[(df.state_successful == 0) & (df.state_failed == 0)]\n",
    "df = df.drop(columns = 'state_failed')"
   ]
  },
  {
   "cell_type": "markdown",
   "metadata": {},
   "source": [
    "## Feature elimination"
   ]
  },
  {
   "cell_type": "code",
   "execution_count": 25,
   "metadata": {},
   "outputs": [],
   "source": [
    "drop_columns = ['backers_count',\n",
    "                'blurb',\n",
    "                'category',\n",
    "                'created_at',\n",
    "                'creator',\n",
    "                'deadline', \n",
    "                'launched_at',\n",
    "                'location',\n",
    "                'name',\n",
    "                'pledged',\n",
    "                'profile',\n",
    "                'slug',\n",
    "                'source_url',\n",
    "                'state_changed_at',\n",
    "                'static_usd_rate',\n",
    "                'urls',\n",
    "                'goal',\n",
    "                'usd_pledged',\n",
    "                'creator_id',\n",
    "                'pledge_per_backer',\n",
    "                'currency',\n",
    "                'raised_per_day',\n",
    "                'spotlight_True']\n",
    "df = df.drop(columns = drop_columns, axis = 1)\n",
    "df.reset_index(drop = True, inplace = True)"
   ]
  },
  {
   "cell_type": "markdown",
   "metadata": {},
   "source": [
    "# Train Test Split"
   ]
  },
  {
   "cell_type": "markdown",
   "metadata": {},
   "source": [
    "The dataframe is randomly separated into training/test data in a 80:20 split. The model will be fit on the training set, then then used to predict the target of the test set.  A random seed value is included for preproducibility."
   ]
  },
  {
   "cell_type": "code",
   "execution_count": 26,
   "metadata": {},
   "outputs": [],
   "source": [
    "data = md.tts(df)\n",
    "columns = data[0].columns"
   ]
  },
  {
   "cell_type": "markdown",
   "metadata": {},
   "source": [
    "# Modelling"
   ]
  },
  {
   "cell_type": "markdown",
   "metadata": {},
   "source": [
    "## Logistic Regression"
   ]
  },
  {
   "cell_type": "code",
   "execution_count": 114,
   "metadata": {},
   "outputs": [
    {
     "name": "stdout",
     "output_type": "stream",
     "text": [
      "Test F1:  0.521         Train F1: 0.519\n",
      "Test Acc: 0.562         Train Acc: 0.558\n",
      "Test Recall: 0.433      Train Recall: 0.431\n",
      "Test Precision: 0.656   Train Precision: 0.653\n"
     ]
    }
   ],
   "source": [
    "logreg = LogisticRegression(\n",
    "    class_weight = 'balanced',\n",
    "    random_state = 69, \n",
    "    solver = 'liblinear')\n",
    "logreg = md.fitmodel(logreg, data)\n",
    "md.get_scores(logreg, data)"
   ]
  },
  {
   "cell_type": "code",
   "execution_count": 145,
   "metadata": {},
   "outputs": [
    {
     "data": {
      "text/html": [
       "<div>\n",
       "<style scoped>\n",
       "    .dataframe tbody tr th:only-of-type {\n",
       "        vertical-align: middle;\n",
       "    }\n",
       "\n",
       "    .dataframe tbody tr th {\n",
       "        vertical-align: top;\n",
       "    }\n",
       "\n",
       "    .dataframe thead th {\n",
       "        text-align: right;\n",
       "    }\n",
       "</style>\n",
       "<table border=\"1\" class=\"dataframe\">\n",
       "  <thead>\n",
       "    <tr style=\"text-align: right;\">\n",
       "      <th></th>\n",
       "      <th>coef</th>\n",
       "    </tr>\n",
       "  </thead>\n",
       "  <tbody>\n",
       "    <tr>\n",
       "      <th>blurb_length</th>\n",
       "      <td>0.000832</td>\n",
       "    </tr>\n",
       "    <tr>\n",
       "      <th>project_length</th>\n",
       "      <td>0.000703</td>\n",
       "    </tr>\n",
       "    <tr>\n",
       "      <th>staff_pick_True</th>\n",
       "      <td>0.000057</td>\n",
       "    </tr>\n",
       "    <tr>\n",
       "      <th>has_prior_success</th>\n",
       "      <td>0.000053</td>\n",
       "    </tr>\n",
       "    <tr>\n",
       "      <th>country_US</th>\n",
       "      <td>0.000048</td>\n",
       "    </tr>\n",
       "    <tr>\n",
       "      <th>usd_type_international</th>\n",
       "      <td>0.000026</td>\n",
       "    </tr>\n",
       "    <tr>\n",
       "      <th>goal_needed_per_day</th>\n",
       "      <td>0.000014</td>\n",
       "    </tr>\n",
       "    <tr>\n",
       "      <th>country_GB</th>\n",
       "      <td>0.000010</td>\n",
       "    </tr>\n",
       "    <tr>\n",
       "      <th>category_name_Documentary</th>\n",
       "      <td>0.000007</td>\n",
       "    </tr>\n",
       "    <tr>\n",
       "      <th>category_name_Video Games</th>\n",
       "      <td>0.000007</td>\n",
       "    </tr>\n",
       "  </tbody>\n",
       "</table>\n",
       "</div>"
      ],
      "text/plain": [
       "                               coef\n",
       "blurb_length               0.000832\n",
       "project_length             0.000703\n",
       "staff_pick_True            0.000057\n",
       "has_prior_success          0.000053\n",
       "country_US                 0.000048\n",
       "usd_type_international     0.000026\n",
       "goal_needed_per_day        0.000014\n",
       "country_GB                 0.000010\n",
       "category_name_Documentary  0.000007\n",
       "category_name_Video Games  0.000007"
      ]
     },
     "execution_count": 145,
     "metadata": {},
     "output_type": "execute_result"
    }
   ],
   "source": [
    "pd.DataFrame(\n",
    "    logreg.coef_[0], columns).rename(\n",
    "    columns={0:'coef'}).sort_values(\n",
    "    by='coef', ascending = False).head(10)"
   ]
  },
  {
   "cell_type": "markdown",
   "metadata": {},
   "source": [
    "## Random Forest"
   ]
  },
  {
   "cell_type": "code",
   "execution_count": 108,
   "metadata": {},
   "outputs": [
    {
     "data": {
      "text/html": [
       "<div>\n",
       "<style scoped>\n",
       "    .dataframe tbody tr th:only-of-type {\n",
       "        vertical-align: middle;\n",
       "    }\n",
       "\n",
       "    .dataframe tbody tr th {\n",
       "        vertical-align: top;\n",
       "    }\n",
       "\n",
       "    .dataframe thead th {\n",
       "        text-align: right;\n",
       "    }\n",
       "</style>\n",
       "<table border=\"1\" class=\"dataframe\">\n",
       "  <thead>\n",
       "    <tr style=\"text-align: right;\">\n",
       "      <th></th>\n",
       "      <th>0</th>\n",
       "    </tr>\n",
       "  </thead>\n",
       "  <tbody>\n",
       "    <tr>\n",
       "      <th>staff_pick_True</th>\n",
       "      <td>0.152501</td>\n",
       "    </tr>\n",
       "    <tr>\n",
       "      <th>usd_goal</th>\n",
       "      <td>0.078635</td>\n",
       "    </tr>\n",
       "    <tr>\n",
       "      <th>goal_needed_per_day</th>\n",
       "      <td>0.073473</td>\n",
       "    </tr>\n",
       "    <tr>\n",
       "      <th>project_length</th>\n",
       "      <td>0.052241</td>\n",
       "    </tr>\n",
       "    <tr>\n",
       "      <th>has_prior_success</th>\n",
       "      <td>0.047282</td>\n",
       "    </tr>\n",
       "    <tr>\n",
       "      <th>category_name_Country &amp; Folk</th>\n",
       "      <td>0.026433</td>\n",
       "    </tr>\n",
       "    <tr>\n",
       "      <th>category_name_Nonfiction</th>\n",
       "      <td>0.025674</td>\n",
       "    </tr>\n",
       "    <tr>\n",
       "      <th>category_name_Documentary</th>\n",
       "      <td>0.025209</td>\n",
       "    </tr>\n",
       "    <tr>\n",
       "      <th>category_name_Indie Rock</th>\n",
       "      <td>0.025201</td>\n",
       "    </tr>\n",
       "    <tr>\n",
       "      <th>category_name_Rock</th>\n",
       "      <td>0.024690</td>\n",
       "    </tr>\n",
       "  </tbody>\n",
       "</table>\n",
       "</div>"
      ],
      "text/plain": [
       "                                     0\n",
       "staff_pick_True               0.152501\n",
       "usd_goal                      0.078635\n",
       "goal_needed_per_day           0.073473\n",
       "project_length                0.052241\n",
       "has_prior_success             0.047282\n",
       "category_name_Country & Folk  0.026433\n",
       "category_name_Nonfiction      0.025674\n",
       "category_name_Documentary     0.025209\n",
       "category_name_Indie Rock      0.025201\n",
       "category_name_Rock            0.024690"
      ]
     },
     "execution_count": 108,
     "metadata": {},
     "output_type": "execute_result"
    }
   ],
   "source": [
    "forest = RandomForestClassifier(\n",
    "    random_state = 69,\n",
    "    n_estimators = 100,\n",
    "    class_weight = 'balanced',\n",
    "    n_jobs = -1,\n",
    "    min_samples_leaf = 5,\n",
    "    min_samples_split = 10,\n",
    "    max_leaf_nodes = 1000,\n",
    ")\n",
    "forest = md.fitmodel(forest, data)\n",
    "md.ft_importance(forest, columns)"
   ]
  },
  {
   "cell_type": "code",
   "execution_count": 109,
   "metadata": {},
   "outputs": [
    {
     "name": "stdout",
     "output_type": "stream",
     "text": [
      "Test F1:  0.809         Train F1: 0.823\n",
      "Test Acc: 0.804         Train Acc: 0.818\n",
      "Test Recall: 0.752      Train Recall: 0.765\n",
      "Test Precision: 0.874   Train Precision: 0.891\n"
     ]
    }
   ],
   "source": [
    "md.get_scores(forest, data)"
   ]
  },
  {
   "cell_type": "code",
   "execution_count": 110,
   "metadata": {},
   "outputs": [
    {
     "data": {
      "text/plain": [
       "RandomForestClassifier(bootstrap=True, class_weight='balanced',\n",
       "                       criterion='gini', max_depth=None, max_features='auto',\n",
       "                       max_leaf_nodes=1000, min_impurity_decrease=0.0,\n",
       "                       min_impurity_split=None, min_samples_leaf=5,\n",
       "                       min_samples_split=10, min_weight_fraction_leaf=0.0,\n",
       "                       n_estimators=100, n_jobs=-1, oob_score=False,\n",
       "                       random_state=69, verbose=0, warm_start=False)"
      ]
     },
     "execution_count": 110,
     "metadata": {},
     "output_type": "execute_result"
    }
   ],
   "source": [
    "forest"
   ]
  },
  {
   "cell_type": "markdown",
   "metadata": {},
   "source": [
    "## XG Boost"
   ]
  },
  {
   "cell_type": "code",
   "execution_count": 111,
   "metadata": {},
   "outputs": [
    {
     "data": {
      "text/html": [
       "<div>\n",
       "<style scoped>\n",
       "    .dataframe tbody tr th:only-of-type {\n",
       "        vertical-align: middle;\n",
       "    }\n",
       "\n",
       "    .dataframe tbody tr th {\n",
       "        vertical-align: top;\n",
       "    }\n",
       "\n",
       "    .dataframe thead th {\n",
       "        text-align: right;\n",
       "    }\n",
       "</style>\n",
       "<table border=\"1\" class=\"dataframe\">\n",
       "  <thead>\n",
       "    <tr style=\"text-align: right;\">\n",
       "      <th></th>\n",
       "      <th>0</th>\n",
       "    </tr>\n",
       "  </thead>\n",
       "  <tbody>\n",
       "    <tr>\n",
       "      <th>category_name_Web</th>\n",
       "      <td>0.040698</td>\n",
       "    </tr>\n",
       "    <tr>\n",
       "      <th>usd_goal</th>\n",
       "      <td>0.036732</td>\n",
       "    </tr>\n",
       "    <tr>\n",
       "      <th>category_name_Indie Rock</th>\n",
       "      <td>0.034742</td>\n",
       "    </tr>\n",
       "    <tr>\n",
       "      <th>category_name_Nonfiction</th>\n",
       "      <td>0.034732</td>\n",
       "    </tr>\n",
       "    <tr>\n",
       "      <th>category_name_Shorts</th>\n",
       "      <td>0.033980</td>\n",
       "    </tr>\n",
       "    <tr>\n",
       "      <th>category_name_Country &amp; Folk</th>\n",
       "      <td>0.033724</td>\n",
       "    </tr>\n",
       "    <tr>\n",
       "      <th>category_name_Rock</th>\n",
       "      <td>0.032309</td>\n",
       "    </tr>\n",
       "    <tr>\n",
       "      <th>category_name_Children's Books</th>\n",
       "      <td>0.032233</td>\n",
       "    </tr>\n",
       "    <tr>\n",
       "      <th>category_name_Apparel</th>\n",
       "      <td>0.031956</td>\n",
       "    </tr>\n",
       "    <tr>\n",
       "      <th>category_name_Product Design</th>\n",
       "      <td>0.031519</td>\n",
       "    </tr>\n",
       "  </tbody>\n",
       "</table>\n",
       "</div>"
      ],
      "text/plain": [
       "                                       0\n",
       "category_name_Web               0.040698\n",
       "usd_goal                        0.036732\n",
       "category_name_Indie Rock        0.034742\n",
       "category_name_Nonfiction        0.034732\n",
       "category_name_Shorts            0.033980\n",
       "category_name_Country & Folk    0.033724\n",
       "category_name_Rock              0.032309\n",
       "category_name_Children's Books  0.032233\n",
       "category_name_Apparel           0.031956\n",
       "category_name_Product Design    0.031519"
      ]
     },
     "execution_count": 111,
     "metadata": {},
     "output_type": "execute_result"
    }
   ],
   "source": [
    "xgb = XGBClassifier(random_state = 69)\n",
    "xgb = md.fitmodel(xgb, data)\n",
    "md.ft_importance(xgb, columns)"
   ]
  },
  {
   "cell_type": "markdown",
   "metadata": {},
   "source": [
    "# Gridsearches"
   ]
  },
  {
   "cell_type": "markdown",
   "metadata": {},
   "source": [
    "## Forest GS"
   ]
  },
  {
   "cell_type": "code",
   "execution_count": null,
   "metadata": {},
   "outputs": [
    {
     "name": "stdout",
     "output_type": "stream",
     "text": [
      "Fitting 5 folds for each of 32 candidates, totalling 160 fits\n"
     ]
    },
    {
     "name": "stderr",
     "output_type": "stream",
     "text": [
      "[Parallel(n_jobs=-1)]: Using backend LokyBackend with 12 concurrent workers.\n"
     ]
    }
   ],
   "source": [
    "params = {\n",
    "    'n_estimators' : [100],\n",
    "    'max_features': ['auto'],\n",
    "    'criterion' : ['gini'],\n",
    "#     'max_depth' : range(2,31,2),\n",
    "    'min_samples_leaf' : range(3,13,3),\n",
    "    'min_samples_split' : range(2,33,4),\n",
    "    'max_leaf_nodes' : [2000],\n",
    "}\n",
    "forest = RandomForestClassifier(\n",
    "    class_weight = 'balanced',\n",
    "    random_state = 69,\n",
    "    n_jobs = -1,\n",
    ")\n",
    "forestGS = GridSearchCV(\n",
    "    estimator = forest,\n",
    "    param_grid = params,\n",
    "    cv = 5,\n",
    "    scoring = 'recall',\n",
    "    verbose = 1,\n",
    "    n_jobs = -1\n",
    ")\n",
    "forestGS.fit(data[0], data[2])\n",
    "forestGS.best_estimator_"
   ]
  },
  {
   "cell_type": "code",
   "execution_count": null,
   "metadata": {},
   "outputs": [],
   "source": [
    "md.get_scores(forestGS.best_estimator_, data)"
   ]
  },
  {
   "cell_type": "markdown",
   "metadata": {},
   "source": [
    "### L1 Log reg"
   ]
  },
  {
   "cell_type": "code",
   "execution_count": 147,
   "metadata": {},
   "outputs": [
    {
     "name": "stdout",
     "output_type": "stream",
     "text": [
      "Fitting 5 folds for each of 1 candidates, totalling 5 fits\n"
     ]
    },
    {
     "name": "stderr",
     "output_type": "stream",
     "text": [
      "[Parallel(n_jobs=-1)]: Using backend LokyBackend with 12 concurrent workers.\n",
      "[Parallel(n_jobs=-1)]: Done   5 out of   5 | elapsed:    2.5s finished\n"
     ]
    },
    {
     "data": {
      "text/plain": [
       "LogisticRegression(C=130, class_weight='balanced', dual=False,\n",
       "                   fit_intercept=True, intercept_scaling=1, l1_ratio=None,\n",
       "                   max_iter=100, multi_class='warn', n_jobs=None, penalty='l1',\n",
       "                   random_state=69, solver='liblinear', tol=0.0001, verbose=0,\n",
       "                   warm_start=False)"
      ]
     },
     "execution_count": 147,
     "metadata": {},
     "output_type": "execute_result"
    }
   ],
   "source": [
    "params = {\n",
    "    'penalty' : ['l1'],\n",
    "    'C' : [130],\n",
    "    'class_weight' : ['balanced'],\n",
    "    'solver' : ['liblinear']\n",
    "}\n",
    "logreg = LogisticRegression(\n",
    "    max_iter = 100,\n",
    "    random_state = 69)\n",
    "logregGS = GridSearchCV(\n",
    "    estimator = logreg,\n",
    "    param_grid = params,\n",
    "    cv = 5,\n",
    "    n_jobs = -1,\n",
    "    scoring = 'f1',\n",
    "    verbose = 1,\n",
    ")\n",
    "logregGS.fit(data[0],data[2])\n",
    "logregGS.best_estimator_"
   ]
  },
  {
   "cell_type": "code",
   "execution_count": 148,
   "metadata": {},
   "outputs": [
    {
     "name": "stdout",
     "output_type": "stream",
     "text": [
      "Test F1:  0.8         Train F1: 0.806\n",
      "Test Acc: 0.798         Train Acc: 0.803\n",
      "Test Recall: 0.731      Train Recall: 0.736\n",
      "Test Precision: 0.883   Train Precision: 0.891\n"
     ]
    }
   ],
   "source": [
    "md.get_scores(logregGS.best_estimator_, data)"
   ]
  },
  {
   "cell_type": "code",
   "execution_count": 153,
   "metadata": {},
   "outputs": [
    {
     "data": {
      "text/html": [
       "<div>\n",
       "<style scoped>\n",
       "    .dataframe tbody tr th:only-of-type {\n",
       "        vertical-align: middle;\n",
       "    }\n",
       "\n",
       "    .dataframe tbody tr th {\n",
       "        vertical-align: top;\n",
       "    }\n",
       "\n",
       "    .dataframe thead th {\n",
       "        text-align: right;\n",
       "    }\n",
       "</style>\n",
       "<table border=\"1\" class=\"dataframe\">\n",
       "  <thead>\n",
       "    <tr style=\"text-align: right;\">\n",
       "      <th></th>\n",
       "      <th>coef</th>\n",
       "    </tr>\n",
       "  </thead>\n",
       "  <tbody>\n",
       "    <tr>\n",
       "      <th>category_name_Video Games</th>\n",
       "      <td>45.749020</td>\n",
       "    </tr>\n",
       "    <tr>\n",
       "      <th>category_name_Tabletop Games</th>\n",
       "      <td>19.109434</td>\n",
       "    </tr>\n",
       "    <tr>\n",
       "      <th>category_name_Documentary</th>\n",
       "      <td>17.772714</td>\n",
       "    </tr>\n",
       "    <tr>\n",
       "      <th>category_name_Rock</th>\n",
       "      <td>13.072856</td>\n",
       "    </tr>\n",
       "    <tr>\n",
       "      <th>category_name_Product Design</th>\n",
       "      <td>12.885767</td>\n",
       "    </tr>\n",
       "  </tbody>\n",
       "</table>\n",
       "</div>"
      ],
      "text/plain": [
       "                                   coef\n",
       "category_name_Video Games     45.749020\n",
       "category_name_Tabletop Games  19.109434\n",
       "category_name_Documentary     17.772714\n",
       "category_name_Rock            13.072856\n",
       "category_name_Product Design  12.885767"
      ]
     },
     "execution_count": 153,
     "metadata": {},
     "output_type": "execute_result"
    }
   ],
   "source": [
    "pd.DataFrame(\n",
    "    logregGS.best_estimator_.coef_[0], columns).rename(\n",
    "    columns={0:'coef'}).sort_values(\n",
    "    by='coef', ascending = False).head()"
   ]
  },
  {
   "cell_type": "markdown",
   "metadata": {},
   "source": [
    "### L2 Log reg"
   ]
  },
  {
   "cell_type": "code",
   "execution_count": 87,
   "metadata": {},
   "outputs": [
    {
     "name": "stdout",
     "output_type": "stream",
     "text": [
      "Fitting 2 folds for each of 1 candidates, totalling 2 fits\n"
     ]
    },
    {
     "name": "stderr",
     "output_type": "stream",
     "text": [
      "[Parallel(n_jobs=-1)]: Using backend LokyBackend with 12 concurrent workers.\n",
      "[Parallel(n_jobs=-1)]: Done   2 out of   2 | elapsed:   41.3s finished\n",
      "/opt/anaconda3/envs/learn-env/lib/python3.6/site-packages/sklearn/utils/optimize.py:203: ConvergenceWarning: newton-cg failed to converge. Increase the number of iterations.\n",
      "  \"number of iterations.\", ConvergenceWarning)\n"
     ]
    },
    {
     "data": {
      "text/plain": [
       "LogisticRegression(C=120, class_weight='balanced', dual=False,\n",
       "                   fit_intercept=True, intercept_scaling=1, l1_ratio=None,\n",
       "                   max_iter=100, multi_class='warn', n_jobs=None, penalty='l2',\n",
       "                   random_state=69, solver='newton-cg', tol=0.0001, verbose=0,\n",
       "                   warm_start=False)"
      ]
     },
     "execution_count": 87,
     "metadata": {},
     "output_type": "execute_result"
    }
   ],
   "source": [
    "# params = {\n",
    "#     'penalty' : ['l2'],\n",
    "#     'C' : [120],\n",
    "#     'class_weight' : ['balanced'],\n",
    "#     'solver' : ['newton-cg']\n",
    "# }\n",
    "# logreg = LogisticRegression(\n",
    "#     max_iter = 100,\n",
    "#     random_state = 69)\n",
    "# logregGS = GridSearchCV(\n",
    "#     estimator = logreg,\n",
    "#     param_grid = params,\n",
    "#     cv = 2,\n",
    "#     n_jobs = -1,\n",
    "#     scoring = 'f1',\n",
    "#     verbose = 1,\n",
    "# )\n",
    "# logregGS.fit(data[0],data[2])\n",
    "# logregGS.best_estimator_"
   ]
  },
  {
   "cell_type": "code",
   "execution_count": 88,
   "metadata": {},
   "outputs": [
    {
     "name": "stdout",
     "output_type": "stream",
     "text": [
      "Test F1:  0.8         Train F1: 0.805\n",
      "Test Acc: 0.798         Train Acc: 0.802\n",
      "Test Recall: 0.731      Train Recall: 0.735\n",
      "Test Precision: 0.882   Train Precision: 0.889\n"
     ]
    }
   ],
   "source": [
    "# md.get_scores(logregGS.best_estimator_, data)"
   ]
  },
  {
   "cell_type": "markdown",
   "metadata": {},
   "source": [
    "# Results"
   ]
  },
  {
   "cell_type": "code",
   "execution_count": 113,
   "metadata": {},
   "outputs": [
    {
     "name": "stdout",
     "output_type": "stream",
     "text": [
      "No Skill: ROC AUC=0.500\n",
      "Logistic: ROC AUC=0.891\n",
      "Random Forest: ROC AUC=0.896\n",
      "XGBoost: ROC AUC=0.864\n"
     ]
    },
    {
     "data": {
      "image/png": "[encoded data removed]",
      "text/plain": [
       "<Figure size 576x576 with 1 Axes>"
      ]
     },
     "metadata": {},
     "output_type": "display_data"
    }
   ],
   "source": [
    "md.generate_ROC(data, logregGS.best_estimator_, forest, xgb, 'ROC')"
   ]
  },
  {
   "cell_type": "code",
   "execution_count": null,
   "metadata": {},
   "outputs": [],
   "source": []
  }
 ],
 "metadata": {
  "kernelspec": {
   "display_name": "learn-env",
   "language": "python",
   "name": "learn-env"
  },
  "language_info": {
   "codemirror_mode": {
    "name": "ipython",
    "version": 3
   },
   "file_extension": ".py",
   "mimetype": "text/x-python",
   "name": "python",
   "nbconvert_exporter": "python",
   "pygments_lexer": "ipython3",
   "version": "3.6.9"
  }
 },
 "nbformat": 4,
 "nbformat_minor": 4
}
